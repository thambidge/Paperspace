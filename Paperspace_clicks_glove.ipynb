{
 "cells": [
  {
   "cell_type": "code",
   "execution_count": 2,
   "metadata": {
    "colab": {
     "base_uri": "https://localhost:8080/",
     "height": 36
    },
    "colab_type": "code",
    "id": "C0kq-Qt36JQ1",
    "outputId": "cb3fd3a7-6e65-4135-c884-b82a14c612ff"
   },
   "outputs": [],
   "source": [
    "import tensorflow as tf\n",
    "import pandas as pd\n",
    "import numpy as np\n",
    "import sklearn\n",
    "from tensorflow import keras\n",
    "from matplotlib import pyplot\n",
    "import gensim"
   ]
  },
  {
   "cell_type": "code",
   "execution_count": 3,
   "metadata": {
    "colab": {},
    "colab_type": "code",
    "id": "mKY3sqIG6K6a"
   },
   "outputs": [
    {
     "data": {
      "text/html": [
       "<div>\n",
       "<style scoped>\n",
       "    .dataframe tbody tr th:only-of-type {\n",
       "        vertical-align: middle;\n",
       "    }\n",
       "\n",
       "    .dataframe tbody tr th {\n",
       "        vertical-align: top;\n",
       "    }\n",
       "\n",
       "    .dataframe thead th {\n",
       "        text-align: right;\n",
       "    }\n",
       "</style>\n",
       "<table border=\"1\" class=\"dataframe\">\n",
       "  <thead>\n",
       "    <tr style=\"text-align: right;\">\n",
       "      <th></th>\n",
       "      <th>campaign_label</th>\n",
       "      <th>date</th>\n",
       "      <th>source_medium</th>\n",
       "      <th>campaign</th>\n",
       "      <th>ad_group</th>\n",
       "      <th>ad_matched_query</th>\n",
       "      <th>ad_cost</th>\n",
       "      <th>impressions</th>\n",
       "      <th>clicks</th>\n",
       "      <th>users</th>\n",
       "      <th>new_users</th>\n",
       "      <th>sessions</th>\n",
       "      <th>bounces</th>\n",
       "      <th>created_accounts</th>\n",
       "      <th>transactions</th>\n",
       "      <th>transaction_revenue</th>\n",
       "    </tr>\n",
       "  </thead>\n",
       "  <tbody>\n",
       "    <tr>\n",
       "      <th>0</th>\n",
       "      <td>brand</td>\n",
       "      <td>2017-03-07</td>\n",
       "      <td>google / cpc</td>\n",
       "      <td>Brand Terms</td>\n",
       "      <td>Paperspace For Teams</td>\n",
       "      <td>paper space</td>\n",
       "      <td>0.31</td>\n",
       "      <td>4</td>\n",
       "      <td>1</td>\n",
       "      <td>1</td>\n",
       "      <td>1</td>\n",
       "      <td>1</td>\n",
       "      <td>0</td>\n",
       "      <td>0</td>\n",
       "      <td>0</td>\n",
       "      <td>0.0</td>\n",
       "    </tr>\n",
       "    <tr>\n",
       "      <th>1</th>\n",
       "      <td>brand</td>\n",
       "      <td>2017-03-07</td>\n",
       "      <td>google / cpc</td>\n",
       "      <td>Brand Terms</td>\n",
       "      <td>Paperspace For Teams</td>\n",
       "      <td>paperspace</td>\n",
       "      <td>1.06</td>\n",
       "      <td>28</td>\n",
       "      <td>5</td>\n",
       "      <td>4</td>\n",
       "      <td>3</td>\n",
       "      <td>4</td>\n",
       "      <td>2</td>\n",
       "      <td>0</td>\n",
       "      <td>0</td>\n",
       "      <td>0.0</td>\n",
       "    </tr>\n",
       "    <tr>\n",
       "      <th>2</th>\n",
       "      <td>brand</td>\n",
       "      <td>2017-03-08</td>\n",
       "      <td>google / cpc</td>\n",
       "      <td>Brand Terms</td>\n",
       "      <td>Paperspace For Teams</td>\n",
       "      <td>paperspace</td>\n",
       "      <td>0.94</td>\n",
       "      <td>24</td>\n",
       "      <td>3</td>\n",
       "      <td>1</td>\n",
       "      <td>0</td>\n",
       "      <td>1</td>\n",
       "      <td>0</td>\n",
       "      <td>0</td>\n",
       "      <td>0</td>\n",
       "      <td>0.0</td>\n",
       "    </tr>\n",
       "    <tr>\n",
       "      <th>3</th>\n",
       "      <td>brand</td>\n",
       "      <td>2017-03-09</td>\n",
       "      <td>google / cpc</td>\n",
       "      <td>Brand Terms</td>\n",
       "      <td>Paperspace For Teams</td>\n",
       "      <td>paperspace</td>\n",
       "      <td>1.70</td>\n",
       "      <td>50</td>\n",
       "      <td>4</td>\n",
       "      <td>2</td>\n",
       "      <td>2</td>\n",
       "      <td>2</td>\n",
       "      <td>1</td>\n",
       "      <td>0</td>\n",
       "      <td>0</td>\n",
       "      <td>0.0</td>\n",
       "    </tr>\n",
       "    <tr>\n",
       "      <th>4</th>\n",
       "      <td>brand</td>\n",
       "      <td>2017-03-10</td>\n",
       "      <td>google / cpc</td>\n",
       "      <td>Brand Terms</td>\n",
       "      <td>Paperspace For Teams</td>\n",
       "      <td>paperspace</td>\n",
       "      <td>4.57</td>\n",
       "      <td>49</td>\n",
       "      <td>7</td>\n",
       "      <td>5</td>\n",
       "      <td>4</td>\n",
       "      <td>9</td>\n",
       "      <td>0</td>\n",
       "      <td>1</td>\n",
       "      <td>1</td>\n",
       "      <td>6.0</td>\n",
       "    </tr>\n",
       "    <tr>\n",
       "      <th>5</th>\n",
       "      <td>brand</td>\n",
       "      <td>2017-03-11</td>\n",
       "      <td>google / cpc</td>\n",
       "      <td>Brand Terms</td>\n",
       "      <td>Paperspace For Teams</td>\n",
       "      <td>paperspace</td>\n",
       "      <td>1.22</td>\n",
       "      <td>14</td>\n",
       "      <td>2</td>\n",
       "      <td>3</td>\n",
       "      <td>2</td>\n",
       "      <td>7</td>\n",
       "      <td>0</td>\n",
       "      <td>0</td>\n",
       "      <td>0</td>\n",
       "      <td>0.0</td>\n",
       "    </tr>\n",
       "    <tr>\n",
       "      <th>6</th>\n",
       "      <td>brand</td>\n",
       "      <td>2017-03-12</td>\n",
       "      <td>google / cpc</td>\n",
       "      <td>Brand Terms</td>\n",
       "      <td>Paperspace For Teams</td>\n",
       "      <td>paperspace</td>\n",
       "      <td>1.62</td>\n",
       "      <td>28</td>\n",
       "      <td>2</td>\n",
       "      <td>4</td>\n",
       "      <td>1</td>\n",
       "      <td>7</td>\n",
       "      <td>4</td>\n",
       "      <td>0</td>\n",
       "      <td>0</td>\n",
       "      <td>0.0</td>\n",
       "    </tr>\n",
       "    <tr>\n",
       "      <th>7</th>\n",
       "      <td>brand</td>\n",
       "      <td>2017-03-13</td>\n",
       "      <td>google / cpc</td>\n",
       "      <td>Brand Terms</td>\n",
       "      <td>Paperspace For Teams</td>\n",
       "      <td>paperspace</td>\n",
       "      <td>6.81</td>\n",
       "      <td>24</td>\n",
       "      <td>9</td>\n",
       "      <td>6</td>\n",
       "      <td>2</td>\n",
       "      <td>9</td>\n",
       "      <td>0</td>\n",
       "      <td>0</td>\n",
       "      <td>0</td>\n",
       "      <td>0.0</td>\n",
       "    </tr>\n",
       "    <tr>\n",
       "      <th>8</th>\n",
       "      <td>brand</td>\n",
       "      <td>2017-03-14</td>\n",
       "      <td>google / cpc</td>\n",
       "      <td>Brand Terms</td>\n",
       "      <td>Paperspace For Teams</td>\n",
       "      <td>paperspace</td>\n",
       "      <td>5.56</td>\n",
       "      <td>37</td>\n",
       "      <td>8</td>\n",
       "      <td>7</td>\n",
       "      <td>3</td>\n",
       "      <td>7</td>\n",
       "      <td>4</td>\n",
       "      <td>0</td>\n",
       "      <td>0</td>\n",
       "      <td>0.0</td>\n",
       "    </tr>\n",
       "    <tr>\n",
       "      <th>9</th>\n",
       "      <td>brand</td>\n",
       "      <td>2017-03-15</td>\n",
       "      <td>google / cpc</td>\n",
       "      <td>Brand Terms</td>\n",
       "      <td>Paperspace For Teams</td>\n",
       "      <td>paperspace</td>\n",
       "      <td>2.51</td>\n",
       "      <td>48</td>\n",
       "      <td>3</td>\n",
       "      <td>5</td>\n",
       "      <td>4</td>\n",
       "      <td>7</td>\n",
       "      <td>1</td>\n",
       "      <td>1</td>\n",
       "      <td>1</td>\n",
       "      <td>15.0</td>\n",
       "    </tr>\n",
       "  </tbody>\n",
       "</table>\n",
       "</div>"
      ],
      "text/plain": [
       "  campaign_label        date source_medium     campaign              ad_group  \\\n",
       "0          brand  2017-03-07  google / cpc  Brand Terms  Paperspace For Teams   \n",
       "1          brand  2017-03-07  google / cpc  Brand Terms  Paperspace For Teams   \n",
       "2          brand  2017-03-08  google / cpc  Brand Terms  Paperspace For Teams   \n",
       "3          brand  2017-03-09  google / cpc  Brand Terms  Paperspace For Teams   \n",
       "4          brand  2017-03-10  google / cpc  Brand Terms  Paperspace For Teams   \n",
       "5          brand  2017-03-11  google / cpc  Brand Terms  Paperspace For Teams   \n",
       "6          brand  2017-03-12  google / cpc  Brand Terms  Paperspace For Teams   \n",
       "7          brand  2017-03-13  google / cpc  Brand Terms  Paperspace For Teams   \n",
       "8          brand  2017-03-14  google / cpc  Brand Terms  Paperspace For Teams   \n",
       "9          brand  2017-03-15  google / cpc  Brand Terms  Paperspace For Teams   \n",
       "\n",
       "  ad_matched_query  ad_cost  impressions  clicks  users  new_users  sessions  \\\n",
       "0      paper space     0.31            4       1      1          1         1   \n",
       "1       paperspace     1.06           28       5      4          3         4   \n",
       "2       paperspace     0.94           24       3      1          0         1   \n",
       "3       paperspace     1.70           50       4      2          2         2   \n",
       "4       paperspace     4.57           49       7      5          4         9   \n",
       "5       paperspace     1.22           14       2      3          2         7   \n",
       "6       paperspace     1.62           28       2      4          1         7   \n",
       "7       paperspace     6.81           24       9      6          2         9   \n",
       "8       paperspace     5.56           37       8      7          3         7   \n",
       "9       paperspace     2.51           48       3      5          4         7   \n",
       "\n",
       "   bounces  created_accounts  transactions  transaction_revenue  \n",
       "0        0                 0             0                  0.0  \n",
       "1        2                 0             0                  0.0  \n",
       "2        0                 0             0                  0.0  \n",
       "3        1                 0             0                  0.0  \n",
       "4        0                 1             1                  6.0  \n",
       "5        0                 0             0                  0.0  \n",
       "6        4                 0             0                  0.0  \n",
       "7        0                 0             0                  0.0  \n",
       "8        4                 0             0                  0.0  \n",
       "9        1                 1             1                 15.0  "
      ]
     },
     "execution_count": 3,
     "metadata": {},
     "output_type": "execute_result"
    }
   ],
   "source": [
    "df_BYDATE = pd.read_csv('/storage/data/ad_matched_queries_20190831__by_date.csv')\n",
    "df_BYDATE.head(10)"
   ]
  },
  {
   "cell_type": "code",
   "execution_count": null,
   "metadata": {
    "colab": {},
    "colab_type": "code",
    "id": "zruxbOyEG3Dn"
   },
   "outputs": [],
   "source": [
    "## keywords dataset\n",
    "#df_keywords = pd.read_csv('Search keyword report 20190916.csv')\n",
    "#df_keywords"
   ]
  },
  {
   "cell_type": "code",
   "execution_count": 191,
   "metadata": {
    "colab": {
     "base_uri": "https://localhost:8080/",
     "height": 283
    },
    "colab_type": "code",
    "id": "sAgd8ZvIs85c",
    "outputId": "b294fbcc-5037-49da-befd-b9cb5ddfd7fa"
   },
   "outputs": [
    {
     "data": {
      "image/png": "[encoded data removed]",
      "text/plain": [
       "<Figure size 432x288 with 1 Axes>"
      ]
     },
     "metadata": {
      "needs_background": "light"
     },
     "output_type": "display_data"
    }
   ],
   "source": [
    "pyplot.scatter(df_BYDATE['clicks'], df_BYDATE['transactions'])\n",
    "pyplot.xlabel('Clicks')\n",
    "pyplot.ylabel('transactions')\n",
    "pyplot.show()"
   ]
  },
  {
   "cell_type": "code",
   "execution_count": 192,
   "metadata": {
    "colab": {
     "base_uri": "https://localhost:8080/",
     "height": 36
    },
    "colab_type": "code",
    "id": "I8d2VX8Wt5og",
    "outputId": "646aa29c-166c-4fbd-a3db-af5bf5887b7e"
   },
   "outputs": [
    {
     "name": "stdout",
     "output_type": "stream",
     "text": [
      "Pearsons correlation: 0.609\n"
     ]
    }
   ],
   "source": [
    "from scipy.stats import pearsonr\n",
    "\n",
    "corr, _ = pearsonr(df_BYDATE['clicks'], df_BYDATE['created_accounts'])\n",
    "print('Pearsons correlation: %.3f' % corr)"
   ]
  },
  {
   "cell_type": "code",
   "execution_count": 5,
   "metadata": {
    "colab": {
     "base_uri": "https://localhost:8080/",
     "height": 329
    },
    "colab_type": "code",
    "id": "MVqkUDaAv6nn",
    "outputId": "7df0f451-e789-4473-9ad0-6d824f0c408e"
   },
   "outputs": [],
   "source": [
    "#import seaborn as sns\n",
    "\n",
    "#df1 = df_BYDATE.iloc[:,7:15]\n",
    "\n",
    "#corr = df1.corr()\n",
    "#ax = sns.heatmap(\n",
    "#    corr, \n",
    "#    vmin=-1, vmax=1, center=0,\n",
    "#    cmap=sns.diverging_palette(20, 220, n=200),\n",
    "#    square=True\n",
    "#)\n",
    "#ax.set_xticklabels(\n",
    "#    ax.get_xticklabels(),\n",
    "#    rotation=45,\n",
    "#    horizontalalignment='right'\n",
    "#);"
   ]
  },
  {
   "cell_type": "code",
   "execution_count": null,
   "metadata": {
    "colab": {},
    "colab_type": "code",
    "id": "7OjtkS_2ckNX"
   },
   "outputs": [],
   "source": [
    "#df_BYDATE['transaction/clicks'] = df_BYDATE['transactions'] / df_BYDATE['clicks']"
   ]
  },
  {
   "cell_type": "code",
   "execution_count": 6,
   "metadata": {
    "colab": {
     "base_uri": "https://localhost:8080/",
     "height": 1000
    },
    "colab_type": "code",
    "id": "83Ly_zwXcMQW",
    "outputId": "52787f8c-bd10-4707-ac9c-721b47426f9c"
   },
   "outputs": [
    {
     "name": "stdout",
     "output_type": "stream",
     "text": [
      "0      85259\n",
      "1      82366\n",
      "2      10838\n",
      "3       3688\n",
      "4       1970\n",
      "5       1107\n",
      "6        772\n",
      "7        542\n",
      "8        390\n",
      "9        286\n",
      "10       222\n",
      "11       188\n",
      "12       146\n",
      "13       103\n",
      "14        93\n",
      "16        77\n",
      "15        65\n",
      "17        63\n",
      "22        60\n",
      "19        56\n",
      "21        53\n",
      "20        51\n",
      "18        48\n",
      "27        45\n",
      "25        41\n",
      "26        37\n",
      "24        36\n",
      "31        36\n",
      "29        31\n",
      "28        31\n",
      "30        29\n",
      "23        29\n",
      "34        21\n",
      "32        20\n",
      "37        19\n",
      "35        18\n",
      "33        16\n",
      "38        13\n",
      "36        10\n",
      "39         9\n",
      "40         6\n",
      "41         6\n",
      "42         6\n",
      "43         5\n",
      "44         5\n",
      "51         4\n",
      "47         3\n",
      "50         3\n",
      "45         3\n",
      "46         2\n",
      "48         2\n",
      "49         2\n",
      "62         2\n",
      "68         1\n",
      "60         1\n",
      "64         1\n",
      "63         1\n",
      "54         1\n",
      "59         1\n",
      "56         1\n",
      "55         1\n",
      "52         1\n",
      "127        1\n",
      "Name: clicks, dtype: int64\n"
     ]
    }
   ],
   "source": [
    "counts = df_BYDATE['clicks'].value_counts()\n",
    "with pd.option_context('display.max_rows', None, 'display.max_columns', None):  # more options can be specified also\n",
    "    print(counts)"
   ]
  },
  {
   "cell_type": "code",
   "execution_count": null,
   "metadata": {},
   "outputs": [],
   "source": [
    "#condense bins for classes with only one instance: 68-127\n",
    "\n",
    "from sklearn.model_selection import StratifiedKFold\n",
    "#import xgboost as xgbdata = pd.read_csv('filepath')X = data.drop(['target'], axis = 1)\n",
    "\n",
    "X = df_BYDATE['']\n",
    "y = df_BYDATE['clicks']\n",
    "\n",
    "bins = np.linspace(0, 1, 100) \n",
    "y_binned = np.digitize(y, bins)\n",
    "skf = StratifiedKFold(n_splits = 5, shuffle = True)\n",
    "\n",
    "for train_index, test_index in skf.split(X, y_binned):\n",
    "    X_train, X_valid = X.iloc[train_index], X.iloc[test_index]\n",
    "    y_train, y_valid = y.iloc[train_index], y.iloc[test_index]\n",
    "\n",
    "# random parameters\n",
    "xgb_params = {'objective' : 'reg:linear', \n",
    "                'eval_metric' : 'mae', \n",
    "                'seed' : 5, \n",
    "                'silent' : True}\n",
    "d_train = xgb.DMatrix(X_train, y_train)\n",
    "d_valid = xgb.DMatrix(X_valid, y_valid)\n",
    "    \n",
    "watchlist = [(d_train, 'train'), (d_valid, 'valid')]\n",
    "model = xgb.train(\n",
    "    xgb_params, \n",
    "    d_train, \n",
    "    1000, \n",
    "    watchlist, \n",
    "    maximize = False, \n",
    "    verbose_eval = 50, \n",
    "    early_stopping_rounds = 100)"
   ]
  },
  {
   "cell_type": "code",
   "execution_count": 194,
   "metadata": {},
   "outputs": [],
   "source": [
    "# The maximum number of words to be used.\n",
    "MAX_NB_WORDS = 10000\n",
    "# Max number of words in each complaint.\n",
    "MAX_SEQUENCE_LENGTH = 29\n",
    "# This is fixed.\n",
    "EMBEDDING_DIM = 100"
   ]
  },
  {
   "cell_type": "code",
   "execution_count": 195,
   "metadata": {},
   "outputs": [],
   "source": [
    "from tensorflow.keras.preprocessing.text import Tokenizer\n",
    "\n",
    "t = Tokenizer(num_words=MAX_NB_WORDS)\n",
    "t.fit_on_texts(df_BYDATE['ad_matched_query'])\n",
    "\n",
    "#print(t.word_counts)\n",
    "#print(t.document_count)\n",
    "#print(t.word_index)\n",
    "#print(t.word_docs)"
   ]
  },
  {
   "cell_type": "code",
   "execution_count": 196,
   "metadata": {},
   "outputs": [
    {
     "name": "stdout",
     "output_type": "stream",
     "text": [
      "Found 8704 unique tokens.\n"
     ]
    }
   ],
   "source": [
    "word_index = t.word_index\n",
    "print('Found %s unique tokens.' % len(word_index))"
   ]
  },
  {
   "cell_type": "code",
   "execution_count": 197,
   "metadata": {},
   "outputs": [],
   "source": [
    "sequenced_queries = t.texts_to_sequences(df_BYDATE['ad_matched_query'])\n",
    "#sequenced_queries"
   ]
  },
  {
   "cell_type": "code",
   "execution_count": 198,
   "metadata": {},
   "outputs": [
    {
     "data": {
      "text/plain": [
       "(188943, 29)"
      ]
     },
     "execution_count": 198,
     "metadata": {},
     "output_type": "execute_result"
    }
   ],
   "source": [
    "from keras_preprocessing import sequence\n",
    "\n",
    "max_length = len(max(sequenced_queries, key=len))\n",
    "\n",
    "padded_sequences = sequence.pad_sequences(sequenced_queries, maxlen=max_length)\n",
    "\n",
    "padded_sequences.shape\n",
    "#t.word_index"
   ]
  },
  {
   "cell_type": "code",
   "execution_count": 410,
   "metadata": {},
   "outputs": [
    {
     "data": {
      "text/plain": [
       "array([[0, 1, 0, ..., 0, 0, 0],\n",
       "       [0, 0, 0, ..., 0, 0, 0],\n",
       "       [0, 0, 0, ..., 0, 0, 0],\n",
       "       ...,\n",
       "       [1, 0, 0, ..., 0, 0, 0],\n",
       "       [0, 1, 0, ..., 0, 0, 0],\n",
       "       [1, 0, 0, ..., 0, 0, 0]], dtype=uint8)"
      ]
     },
     "execution_count": 410,
     "metadata": {},
     "output_type": "execute_result"
    }
   ],
   "source": [
    "Y = pd.get_dummies(df_BYDATE['clicks']).values\n",
    "Y"
   ]
  },
  {
   "cell_type": "code",
   "execution_count": 200,
   "metadata": {},
   "outputs": [
    {
     "name": "stdout",
     "output_type": "stream",
     "text": [
      "Found 400000 word vectors.\n"
     ]
    }
   ],
   "source": [
    "embeddings_index = {}\n",
    "f = open('/storage/data/glove.6B.100d.txt')\n",
    "for line in f:\n",
    "    values = line.split()\n",
    "    word = values[0]\n",
    "    coefs = np.asarray(values[1:], dtype='float32')\n",
    "    embeddings_index[word] = coefs\n",
    "f.close()\n",
    "\n",
    "print('Found %s word vectors.' % len(embeddings_index))"
   ]
  },
  {
   "cell_type": "code",
   "execution_count": 201,
   "metadata": {
    "colab": {},
    "colab_type": "code",
    "id": "6UKaRVvIgNOG"
   },
   "outputs": [],
   "source": [
    "embedding_matrix = np.zeros((len(word_index) + 1, EMBEDDING_DIM))\n",
    "for word, i in word_index.items():\n",
    "    embedding_vector = embeddings_index.get(word)\n",
    "    if embedding_vector is not None:\n",
    "        # words not found in embedding index will be all-zeros.\n",
    "        embedding_matrix[i] = embedding_vector"
   ]
  },
  {
   "cell_type": "code",
   "execution_count": 202,
   "metadata": {},
   "outputs": [],
   "source": [
    "from tensorflow.keras.layers import Embedding\n",
    "\n",
    "embedding_layer = Embedding(len(word_index) + 1,\n",
    "                            EMBEDDING_DIM,\n",
    "                            weights=[embedding_matrix],\n",
    "                            input_length=MAX_SEQUENCE_LENGTH,\n",
    "                            trainable=False)"
   ]
  },
  {
   "cell_type": "code",
   "execution_count": null,
   "metadata": {},
   "outputs": [],
   "source": [
    "# Turn into binary variable\n",
    "#df_BYDATE['create_account1'] = np.where(df_BYDATE[\"created_accounts\"] > 0, 1, 0)\n",
    "#df_BYDATE['create_account1'].value_counts()"
   ]
  },
  {
   "cell_type": "code",
   "execution_count": null,
   "metadata": {
    "colab": {},
    "colab_type": "code",
    "id": "OWFBUdgj51CW"
   },
   "outputs": [],
   "source": [
    "#query_train, query_val, created_train, created_val = train_test_split(query_train, created_train, test_size=0.2, random_state=1)\n",
    "\n",
    "# when do to tokenization? for bag of words, create matrix ASAP--preprocess everything before traintestsplit\n",
    "# merge transaction and created account\n",
    "# impressions, clicks"
   ]
  },
  {
   "cell_type": "code",
   "execution_count": 415,
   "metadata": {
    "colab": {},
    "colab_type": "code",
    "id": "i6_1nZ53EkJY"
   },
   "outputs": [
    {
     "data": {
      "text/plain": [
       "array([[0, 1, 0, ..., 0, 0, 0],\n",
       "       [0, 0, 0, ..., 0, 0, 0],\n",
       "       [0, 0, 0, ..., 0, 0, 0],\n",
       "       ...,\n",
       "       [1, 0, 0, ..., 0, 0, 0],\n",
       "       [0, 1, 0, ..., 0, 0, 0],\n",
       "       [1, 0, 0, ..., 0, 0, 0]], dtype=uint8)"
      ]
     },
     "execution_count": 415,
     "metadata": {},
     "output_type": "execute_result"
    }
   ],
   "source": [
    "#created dateset that can be stratified\n",
    "stratify = df_BYDATE['clicks']*2\n",
    "stratify = pd.get_dummies(stratify).values\n",
    "stratify"
   ]
  },
  {
   "cell_type": "code",
   "execution_count": 416,
   "metadata": {
    "colab": {
     "base_uri": "https://localhost:8080/",
     "height": 36
    },
    "colab_type": "code",
    "id": "O0rmwLj251C9",
    "outputId": "dd208342-a390-46c8-fe3c-9e3f004de084"
   },
   "outputs": [
    {
     "ename": "ValueError",
     "evalue": "The least populated class in y has only 1 member, which is too few. The minimum number of groups for any class cannot be less than 2.",
     "output_type": "error",
     "traceback": [
      "\u001b[0;31m---------------------------------------------------------------------------\u001b[0m",
      "\u001b[0;31mValueError\u001b[0m                                Traceback (most recent call last)",
      "\u001b[0;32m<ipython-input-416-6fb6ce7213a9>\u001b[0m in \u001b[0;36m<module>\u001b[0;34m\u001b[0m\n\u001b[1;32m      1\u001b[0m \u001b[0;32mfrom\u001b[0m \u001b[0msklearn\u001b[0m\u001b[0;34m.\u001b[0m\u001b[0mmodel_selection\u001b[0m \u001b[0;32mimport\u001b[0m \u001b[0mtrain_test_split\u001b[0m\u001b[0;34m\u001b[0m\u001b[0;34m\u001b[0m\u001b[0m\n\u001b[1;32m      2\u001b[0m \u001b[0;34m\u001b[0m\u001b[0m\n\u001b[0;32m----> 3\u001b[0;31m \u001b[0mX_train\u001b[0m\u001b[0;34m,\u001b[0m \u001b[0mX_test\u001b[0m\u001b[0;34m,\u001b[0m \u001b[0mY_train\u001b[0m\u001b[0;34m,\u001b[0m \u001b[0mY_test\u001b[0m \u001b[0;34m=\u001b[0m \u001b[0mtrain_test_split\u001b[0m\u001b[0;34m(\u001b[0m\u001b[0mpadded_sequences\u001b[0m\u001b[0;34m,\u001b[0m \u001b[0mY\u001b[0m\u001b[0;34m,\u001b[0m\u001b[0mtest_size\u001b[0m\u001b[0;34m=\u001b[0m\u001b[0;36m0.5\u001b[0m\u001b[0;34m,\u001b[0m \u001b[0mstratify\u001b[0m\u001b[0;34m=\u001b[0m\u001b[0mstratify\u001b[0m\u001b[0;34m,\u001b[0m \u001b[0mrandom_state\u001b[0m\u001b[0;34m=\u001b[0m\u001b[0;36m42\u001b[0m\u001b[0;34m)\u001b[0m\u001b[0;34m\u001b[0m\u001b[0;34m\u001b[0m\u001b[0m\n\u001b[0m\u001b[1;32m      4\u001b[0m \u001b[0mprint\u001b[0m\u001b[0;34m(\u001b[0m\u001b[0mX_train\u001b[0m\u001b[0;34m.\u001b[0m\u001b[0mshape\u001b[0m\u001b[0;34m,\u001b[0m\u001b[0mY_train\u001b[0m\u001b[0;34m.\u001b[0m\u001b[0mshape\u001b[0m\u001b[0;34m)\u001b[0m\u001b[0;34m\u001b[0m\u001b[0;34m\u001b[0m\u001b[0m\n\u001b[1;32m      5\u001b[0m \u001b[0mprint\u001b[0m\u001b[0;34m(\u001b[0m\u001b[0mX_test\u001b[0m\u001b[0;34m.\u001b[0m\u001b[0mshape\u001b[0m\u001b[0;34m,\u001b[0m\u001b[0mY_test\u001b[0m\u001b[0;34m.\u001b[0m\u001b[0mshape\u001b[0m\u001b[0;34m)\u001b[0m\u001b[0;34m\u001b[0m\u001b[0;34m\u001b[0m\u001b[0m\n",
      "\u001b[0;32m/opt/conda/envs/insightfall2019_sklearn/lib/python3.7/site-packages/sklearn/model_selection/_split.py\u001b[0m in \u001b[0;36mtrain_test_split\u001b[0;34m(*arrays, **options)\u001b[0m\n\u001b[1;32m   2119\u001b[0m                      random_state=random_state)\n\u001b[1;32m   2120\u001b[0m \u001b[0;34m\u001b[0m\u001b[0m\n\u001b[0;32m-> 2121\u001b[0;31m         \u001b[0mtrain\u001b[0m\u001b[0;34m,\u001b[0m \u001b[0mtest\u001b[0m \u001b[0;34m=\u001b[0m \u001b[0mnext\u001b[0m\u001b[0;34m(\u001b[0m\u001b[0mcv\u001b[0m\u001b[0;34m.\u001b[0m\u001b[0msplit\u001b[0m\u001b[0;34m(\u001b[0m\u001b[0mX\u001b[0m\u001b[0;34m=\u001b[0m\u001b[0marrays\u001b[0m\u001b[0;34m[\u001b[0m\u001b[0;36m0\u001b[0m\u001b[0;34m]\u001b[0m\u001b[0;34m,\u001b[0m \u001b[0my\u001b[0m\u001b[0;34m=\u001b[0m\u001b[0mstratify\u001b[0m\u001b[0;34m)\u001b[0m\u001b[0;34m)\u001b[0m\u001b[0;34m\u001b[0m\u001b[0;34m\u001b[0m\u001b[0m\n\u001b[0m\u001b[1;32m   2122\u001b[0m \u001b[0;34m\u001b[0m\u001b[0m\n\u001b[1;32m   2123\u001b[0m     return list(chain.from_iterable((safe_indexing(a, train),\n",
      "\u001b[0;32m/opt/conda/envs/insightfall2019_sklearn/lib/python3.7/site-packages/sklearn/model_selection/_split.py\u001b[0m in \u001b[0;36msplit\u001b[0;34m(self, X, y, groups)\u001b[0m\n\u001b[1;32m   1321\u001b[0m         \"\"\"\n\u001b[1;32m   1322\u001b[0m         \u001b[0mX\u001b[0m\u001b[0;34m,\u001b[0m \u001b[0my\u001b[0m\u001b[0;34m,\u001b[0m \u001b[0mgroups\u001b[0m \u001b[0;34m=\u001b[0m \u001b[0mindexable\u001b[0m\u001b[0;34m(\u001b[0m\u001b[0mX\u001b[0m\u001b[0;34m,\u001b[0m \u001b[0my\u001b[0m\u001b[0;34m,\u001b[0m \u001b[0mgroups\u001b[0m\u001b[0;34m)\u001b[0m\u001b[0;34m\u001b[0m\u001b[0;34m\u001b[0m\u001b[0m\n\u001b[0;32m-> 1323\u001b[0;31m         \u001b[0;32mfor\u001b[0m \u001b[0mtrain\u001b[0m\u001b[0;34m,\u001b[0m \u001b[0mtest\u001b[0m \u001b[0;32min\u001b[0m \u001b[0mself\u001b[0m\u001b[0;34m.\u001b[0m\u001b[0m_iter_indices\u001b[0m\u001b[0;34m(\u001b[0m\u001b[0mX\u001b[0m\u001b[0;34m,\u001b[0m \u001b[0my\u001b[0m\u001b[0;34m,\u001b[0m \u001b[0mgroups\u001b[0m\u001b[0;34m)\u001b[0m\u001b[0;34m:\u001b[0m\u001b[0;34m\u001b[0m\u001b[0;34m\u001b[0m\u001b[0m\n\u001b[0m\u001b[1;32m   1324\u001b[0m             \u001b[0;32myield\u001b[0m \u001b[0mtrain\u001b[0m\u001b[0;34m,\u001b[0m \u001b[0mtest\u001b[0m\u001b[0;34m\u001b[0m\u001b[0;34m\u001b[0m\u001b[0m\n\u001b[1;32m   1325\u001b[0m \u001b[0;34m\u001b[0m\u001b[0m\n",
      "\u001b[0;32m/opt/conda/envs/insightfall2019_sklearn/lib/python3.7/site-packages/sklearn/model_selection/_split.py\u001b[0m in \u001b[0;36m_iter_indices\u001b[0;34m(self, X, y, groups)\u001b[0m\n\u001b[1;32m   1634\u001b[0m         \u001b[0mclass_counts\u001b[0m \u001b[0;34m=\u001b[0m \u001b[0mnp\u001b[0m\u001b[0;34m.\u001b[0m\u001b[0mbincount\u001b[0m\u001b[0;34m(\u001b[0m\u001b[0my_indices\u001b[0m\u001b[0;34m)\u001b[0m\u001b[0;34m\u001b[0m\u001b[0;34m\u001b[0m\u001b[0m\n\u001b[1;32m   1635\u001b[0m         \u001b[0;32mif\u001b[0m \u001b[0mnp\u001b[0m\u001b[0;34m.\u001b[0m\u001b[0mmin\u001b[0m\u001b[0;34m(\u001b[0m\u001b[0mclass_counts\u001b[0m\u001b[0;34m)\u001b[0m \u001b[0;34m<\u001b[0m \u001b[0;36m2\u001b[0m\u001b[0;34m:\u001b[0m\u001b[0;34m\u001b[0m\u001b[0;34m\u001b[0m\u001b[0m\n\u001b[0;32m-> 1636\u001b[0;31m             raise ValueError(\"The least populated class in y has only 1\"\n\u001b[0m\u001b[1;32m   1637\u001b[0m                              \u001b[0;34m\" member, which is too few. The minimum\"\u001b[0m\u001b[0;34m\u001b[0m\u001b[0;34m\u001b[0m\u001b[0m\n\u001b[1;32m   1638\u001b[0m                              \u001b[0;34m\" number of groups for any class cannot\"\u001b[0m\u001b[0;34m\u001b[0m\u001b[0;34m\u001b[0m\u001b[0m\n",
      "\u001b[0;31mValueError\u001b[0m: The least populated class in y has only 1 member, which is too few. The minimum number of groups for any class cannot be less than 2."
     ]
    }
   ],
   "source": [
    "from sklearn.model_selection import train_test_split\n",
    "\n",
    "X_train, X_test, Y_train, Y_test = train_test_split(padded_sequences, Y,test_size=0.5, stratify=stratify, random_state=42)\n",
    "print(X_train.shape,Y_train.shape)\n",
    "print(X_test.shape,Y_test.shape)\n",
    "#padded_sequences"
   ]
  },
  {
   "cell_type": "code",
   "execution_count": 204,
   "metadata": {
    "colab": {
     "base_uri": "https://localhost:8080/",
     "height": 464
    },
    "colab_type": "code",
    "id": "TlDZxxdQ51DA",
    "outputId": "5cbe8378-2873-47a6-c849-fae4ea7e8b45"
   },
   "outputs": [
    {
     "name": "stdout",
     "output_type": "stream",
     "text": [
      "_________________________________________________________________\n",
      "Layer (type)                 Output Shape              Param #   \n",
      "=================================================================\n",
      "embedding_2 (Embedding)      (None, 29, 100)           870500    \n",
      "_________________________________________________________________\n",
      "spatial_dropout1d_2 (Spatial (None, 29, 100)           0         \n",
      "_________________________________________________________________\n",
      "lstm_2 (LSTM)                (None, 100)               80400     \n",
      "_________________________________________________________________\n",
      "dense_2 (Dense)              (None, 63)                6363      \n",
      "=================================================================\n",
      "Total params: 957,263\n",
      "Trainable params: 86,763\n",
      "Non-trainable params: 870,500\n",
      "_________________________________________________________________\n",
      "None\n"
     ]
    }
   ],
   "source": [
    "from tensorflow.keras.models import Sequential\n",
    "from tensorflow.keras.layers import Dense, Embedding, LSTM, SpatialDropout1D\n",
    "\n",
    "model = Sequential()\n",
    "model.add(embedding_layer)\n",
    "model.add(SpatialDropout1D(0.2))\n",
    "model.add(LSTM(100, dropout=0.5, recurrent_dropout=0.5))\n",
    "#model.add(Dense(32, activation='relu', activity_regularizer=l1(0.001)))\n",
    "model.add(Dense(63, activation='softmax'))\n",
    "model.compile(loss='categorical_crossentropy', optimizer='adam', metrics=['accuracy'])\n",
    "print(model.summary())"
   ]
  },
  {
   "cell_type": "code",
   "execution_count": 205,
   "metadata": {
    "colab": {
     "base_uri": "https://localhost:8080/",
     "height": 370
    },
    "colab_type": "code",
    "id": "s-A9jMgI51DH",
    "outputId": "137bc95e-a168-4c14-fff4-5034484e4832"
   },
   "outputs": [
    {
     "name": "stdout",
     "output_type": "stream",
     "text": [
      "Train on 136038 samples, validate on 15116 samples\n",
      "Epoch 1/5\n",
      "136038/136038 [==============================] - 250s 2ms/sample - loss: 1.1546 - acc: 0.4894 - val_loss: 1.1083 - val_acc: 0.4820\n",
      "Epoch 2/5\n",
      "136038/136038 [==============================] - 243s 2ms/sample - loss: 1.0946 - acc: 0.5161 - val_loss: 1.0810 - val_acc: 0.5224\n",
      "Epoch 3/5\n",
      "136038/136038 [==============================] - 243s 2ms/sample - loss: 1.0817 - acc: 0.5249 - val_loss: 1.0667 - val_acc: 0.5453\n",
      "Epoch 4/5\n",
      "136038/136038 [==============================] - 243s 2ms/sample - loss: 1.0745 - acc: 0.5288 - val_loss: 1.0631 - val_acc: 0.5527\n",
      "Epoch 5/5\n",
      "136038/136038 [==============================] - 243s 2ms/sample - loss: 1.0698 - acc: 0.5328 - val_loss: 1.0639 - val_acc: 0.5482\n"
     ]
    }
   ],
   "source": [
    "from tensorflow.keras.callbacks import EarlyStopping\n",
    "\n",
    "epochs = 5\n",
    "batch_size = 64\n",
    "\n",
    "#class_weight = {0: 1.,}\n",
    "\n",
    "history = model.fit(X_train, Y_train, epochs=epochs, batch_size=batch_size, validation_split=0.1,callbacks=[EarlyStopping(monitor='val_loss', patience=3, min_delta=0.0001)])"
   ]
  },
  {
   "cell_type": "code",
   "execution_count": 206,
   "metadata": {
    "colab": {
     "base_uri": "https://localhost:8080/",
     "height": 91
    },
    "colab_type": "code",
    "id": "LFL1Eohd51DK",
    "outputId": "c93d28bd-86fb-48af-cb99-a667abb0ed00"
   },
   "outputs": [
    {
     "name": "stdout",
     "output_type": "stream",
     "text": [
      "37789/37789 [==============================] - 36s 959us/sample - loss: 1.0685 - acc: 0.5372\n",
      "Test set\n",
      "  Loss: 1.069\n",
      "  Accuracy: 0.537\n"
     ]
    }
   ],
   "source": [
    "accr = model.evaluate(X_test,Y_test)\n",
    "print('Test set\\n  Loss: {:0.3f}\\n  Accuracy: {:0.3f}'.format(accr[0],accr[1]))"
   ]
  },
  {
   "cell_type": "code",
   "execution_count": 207,
   "metadata": {
    "colab": {
     "base_uri": "https://localhost:8080/",
     "height": 281
    },
    "colab_type": "code",
    "id": "rcwChIEmFATH",
    "outputId": "45863a11-0a9f-46f7-9232-639a1dce355a"
   },
   "outputs": [
    {
     "data": {
      "image/png": "[encoded data removed]",
      "text/plain": [
       "<Figure size 432x288 with 1 Axes>"
      ]
     },
     "metadata": {
      "needs_background": "light"
     },
     "output_type": "display_data"
    }
   ],
   "source": [
    "import matplotlib.pyplot as plt\n",
    "\n",
    "plt.title('Loss')\n",
    "plt.plot(history.history['loss'], label='train')\n",
    "plt.plot(history.history['val_loss'], label='test')\n",
    "plt.legend()\n",
    "plt.show()\n"
   ]
  },
  {
   "cell_type": "code",
   "execution_count": 208,
   "metadata": {
    "colab": {
     "base_uri": "https://localhost:8080/",
     "height": 281
    },
    "colab_type": "code",
    "id": "kO6dUbSfoP7P",
    "outputId": "d1677d54-3ab1-4394-ab86-1dab1e9a6e62"
   },
   "outputs": [
    {
     "data": {
      "image/png": "[encoded data removed]",
      "text/plain": [
       "<Figure size 432x288 with 1 Axes>"
      ]
     },
     "metadata": {
      "needs_background": "light"
     },
     "output_type": "display_data"
    }
   ],
   "source": [
    "plt.title('Accuracy')\n",
    "plt.plot(history.history['acc'], label='train')\n",
    "plt.plot(history.history['val_acc'], label='test')\n",
    "plt.legend()\n",
    "plt.show();"
   ]
  },
  {
   "cell_type": "code",
   "execution_count": 209,
   "metadata": {
    "colab": {
     "base_uri": "https://localhost:8080/",
     "height": 36
    },
    "colab_type": "code",
    "id": "fjm8JdDz51Dy",
    "outputId": "68a24596-696c-4144-a5d0-06b461fdfb28"
   },
   "outputs": [
    {
     "name": "stdout",
     "output_type": "stream",
     "text": [
      "[[2.47152433e-01 7.38675475e-01 1.31162619e-02 8.42319161e-04\n",
      "  1.42954988e-04 4.36911287e-05 1.04697529e-05 4.68903045e-06\n",
      "  3.74710157e-06 2.09930909e-06 7.22731329e-07 8.53300890e-07\n",
      "  7.03213345e-07 1.44780515e-07 1.75753215e-07 1.62891979e-07\n",
      "  1.56716993e-07 1.73882484e-07 9.78388428e-08 5.74920271e-08\n",
      "  6.84833239e-08 5.01738782e-07 6.12143367e-07 1.18075391e-07\n",
      "  1.12299517e-07 1.76664869e-07 1.14940697e-07 8.18452364e-08\n",
      "  1.72698208e-07 3.97091107e-08 5.68210332e-08 4.39840875e-08\n",
      "  2.45854608e-08 2.62647983e-08 4.06452791e-08 2.40846543e-08\n",
      "  1.72241190e-08 2.10964799e-07 1.84809949e-07 6.63098465e-09\n",
      "  3.97881088e-08 3.08681436e-08 1.91106899e-08 1.36192941e-08\n",
      "  6.89333532e-08 1.52699720e-08 6.78880330e-09 6.32815045e-09\n",
      "  1.83625932e-08 9.87468302e-11 8.55142712e-09 2.55141935e-10\n",
      "  1.80486376e-10 7.10423143e-09 1.91590646e-10 4.22903490e-09\n",
      "  1.04088675e-08 8.51599236e-09 6.08872996e-09 6.60788924e-10\n",
      "  1.72400108e-10 4.11958689e-10 4.16694146e-09]] Predicted Clicks: 5\n"
     ]
    }
   ],
   "source": [
    "new_query = ['GPU computing Paperspace parsec']\n",
    "seq = t.texts_to_sequences(new_query)\n",
    "padded = sequence.pad_sequences(seq, maxlen=29)\n",
    "pred = model.predict(padded)\n",
    "labels = df_BYDATE['clicks']\n",
    "print(pred, \"Predicted Clicks:\" ,labels[np.argmax(pred)])"
   ]
  },
  {
   "cell_type": "code",
   "execution_count": 210,
   "metadata": {
    "colab": {},
    "colab_type": "code",
    "id": "QG1KmPHp51Dh"
   },
   "outputs": [],
   "source": [
    "from sklearn.preprocessing import label_binarize\n",
    "\n",
    "# Use label_binarize to be multi-label like settings\n",
    "Y_bin = label_binarize(Y, classes=[0, 1, 2,3,4,5,6,7,8,9,10,11,12,13,14,15,16,17,18,19,20,21,22,23,24,25,26,27,28,29,30,31,32,33,34,35,36,37,38,39,40,41,42,43,44,45,46,47,48,49,50,51,52,53,54,55,56,57,58,59,60,61,62])\n",
    "Y_test_bin = label_binarize(Y_test, classes=[0, 1, 2,3,4,5,6,7,8,9,10,11,12,13,14,15,16,17,18,19,20,21,22,23,24,25,26,27,28,29,30,31,32,33,34,35,36,37,38,39,40,41,42,43,44,45,46,47,48,49,50,51,52,53,54,55,56,57,58,59,60,61,62])\n",
    "Y_train_bin = label_binarize(Y_train, classes=[0, 1, 2,3,4,5,6,7,8,9,10,11,12,13,14,15,16,17,18,19,20,21,22,23,24,25,26,27,28,29,30,31,32,33,34,35,36,37,38,39,40,41,42,43,44,45,46,47,48,49,50,51,52,53,54,55,56,57,58,59,60,61,62])\n",
    "\n",
    "n_classes = Y.shape[1]\n",
    "\n",
    "y_score = model.predict(X_test, verbose=0)"
   ]
  },
  {
   "cell_type": "code",
   "execution_count": 211,
   "metadata": {
    "colab": {
     "base_uri": "https://localhost:8080/",
     "height": 73
    },
    "colab_type": "code",
    "id": "9Ii3Hy7251Dp",
    "outputId": "f69d3e60-3bef-4139-cda5-90f5833becd6"
   },
   "outputs": [
    {
     "name": "stderr",
     "output_type": "stream",
     "text": [
      "/opt/conda/envs/insightfall2019_sklearn/lib/python3.7/site-packages/sklearn/metrics/ranking.py:528: RuntimeWarning: invalid value encountered in true_divide\n",
      "  recall = tps / tps[-1]\n"
     ]
    },
    {
     "name": "stdout",
     "output_type": "stream",
     "text": [
      "Average precision score, micro-averaged over all classes: 0.57\n"
     ]
    }
   ],
   "source": [
    "from sklearn.metrics import precision_recall_curve\n",
    "from sklearn.metrics import average_precision_score\n",
    "\n",
    "# For each class\n",
    "precision = dict()\n",
    "recall = dict()\n",
    "average_precision = dict()\n",
    "for i in range(n_classes):\n",
    "    precision[i], recall[i], _ = precision_recall_curve(Y_test_bin[:, i],\n",
    "                                                        y_score[:, i])\n",
    "    average_precision[i] = average_precision_score(Y_test_bin[:, i], y_score[:, i])\n",
    "\n",
    "# A \"micro-average\": quantifying score on all classes jointly\n",
    "precision[\"micro\"], recall[\"micro\"], _ = precision_recall_curve(Y_test_bin.ravel(),\n",
    "    y_score.ravel())\n",
    "average_precision[\"micro\"] = average_precision_score(Y_test_bin, y_score,\n",
    "                                                     average=\"micro\")\n",
    "print('Average precision score, micro-averaged over all classes: {0:0.2f}'\n",
    "      .format(average_precision[\"micro\"]))"
   ]
  },
  {
   "cell_type": "code",
   "execution_count": 212,
   "metadata": {
    "colab": {
     "base_uri": "https://localhost:8080/",
     "height": 314
    },
    "colab_type": "code",
    "id": "I0ZRLWHMFu0u",
    "outputId": "87c37f6e-a0b3-444e-a85e-3364bd9f77b2"
   },
   "outputs": [
    {
     "data": {
      "text/plain": [
       "Text(0.5, 1.0, 'Average precision score, micro-averaged over all classes: AP=0.57')"
      ]
     },
     "execution_count": 212,
     "metadata": {},
     "output_type": "execute_result"
    },
    {
     "data": {
      "image/png": "[encoded data removed]",
      "text/plain": [
       "<Figure size 432x288 with 1 Axes>"
      ]
     },
     "metadata": {
      "needs_background": "light"
     },
     "output_type": "display_data"
    }
   ],
   "source": [
    "plt.figure()\n",
    "plt.step(recall['micro'], precision['micro'], color='b', alpha=0.2,\n",
    "         where='post')\n",
    "plt.fill_between(recall[\"micro\"], precision[\"micro\"], alpha=0.2, color='b')\n",
    "\n",
    "plt.xlabel('Recall')\n",
    "plt.ylabel('Precision')\n",
    "plt.ylim([0.0, 1.05])\n",
    "plt.xlim([0.0, 1.0])\n",
    "plt.title(\n",
    "    'Average precision score, micro-averaged over all classes: AP={0:0.2f}'\n",
    "    .format(average_precision[\"micro\"]))"
   ]
  },
  {
   "cell_type": "code",
   "execution_count": 213,
   "metadata": {},
   "outputs": [],
   "source": [
    "y_pred = model.predict(X_test)"
   ]
  },
  {
   "cell_type": "code",
   "execution_count": 308,
   "metadata": {},
   "outputs": [
    {
     "data": {
      "text/plain": [
       "(37789, 63)"
      ]
     },
     "execution_count": 308,
     "metadata": {},
     "output_type": "execute_result"
    }
   ],
   "source": [
    "y_pred.shape"
   ]
  },
  {
   "cell_type": "code",
   "execution_count": 314,
   "metadata": {},
   "outputs": [],
   "source": [
    "#def softmax(x):\n",
    "#    \"\"\"Compute softmax values for each sets of scores in x.\"\"\"\n",
    "#    e_x = np.exp(x - np.max(x))\n",
    "#    return e_x / e_x.sum()"
   ]
  },
  {
   "cell_type": "code",
   "execution_count": 399,
   "metadata": {},
   "outputs": [
    {
     "name": "stdout",
     "output_type": "stream",
     "text": [
      "(37789, 63)\n",
      "(37789, 63)\n"
     ]
    },
    {
     "data": {
      "text/plain": [
       "array([[1., 0., 0., ..., 0., 0., 0.],\n",
       "       [1., 0., 0., ..., 0., 0., 0.],\n",
       "       [1., 0., 0., ..., 0., 0., 0.],\n",
       "       ...,\n",
       "       [0., 1., 0., ..., 0., 0., 0.],\n",
       "       [1., 0., 0., ..., 0., 0., 0.],\n",
       "       [1., 0., 0., ..., 0., 0., 0.]], dtype=float32)"
      ]
     },
     "execution_count": 399,
     "metadata": {},
     "output_type": "execute_result"
    }
   ],
   "source": [
    "num_classes = 63\n",
    "\n",
    "y_pred1 = np.argmax(y_pred, axis=1)\n",
    "#y_categorical = tf.keras.utils.to_categorical(y_pred, num_classes)\n",
    "\n",
    "originalShape = y_pred1.shape\n",
    "totalFeatures = y_pred1.max() + 1\n",
    "\n",
    "categorical = y_pred1.reshape((-1,))\n",
    "categorical = tf.keras.utils.to_categorical(categorical, num_classes)\n",
    "\n",
    "print(Y_test.shape)\n",
    "print(categorical.shape)\n",
    "categorical"
   ]
  },
  {
   "cell_type": "code",
   "execution_count": 394,
   "metadata": {},
   "outputs": [
    {
     "data": {
      "text/plain": [
       "array([[1, 0, 0, ..., 0, 0, 0],\n",
       "       [1, 0, 0, ..., 0, 0, 0],\n",
       "       [1, 0, 0, ..., 0, 0, 0],\n",
       "       ...,\n",
       "       [1, 0, 0, ..., 0, 0, 0],\n",
       "       [0, 1, 0, ..., 0, 0, 0],\n",
       "       [1, 0, 0, ..., 0, 0, 0]], dtype=uint8)"
      ]
     },
     "execution_count": 394,
     "metadata": {},
     "output_type": "execute_result"
    }
   ],
   "source": [
    "Y_test"
   ]
  },
  {
   "cell_type": "code",
   "execution_count": 402,
   "metadata": {
    "colab": {
     "base_uri": "https://localhost:8080/",
     "height": 385
    },
    "colab_type": "code",
    "id": "Xba4iJ_O0ARx",
    "outputId": "c582ee87-17a4-45ae-e5e5-dca68cc16608"
   },
   "outputs": [
    {
     "name": "stdout",
     "output_type": "stream",
     "text": [
      "              precision    recall  f1-score   support\n",
      "\n",
      "           0       0.50      0.83      0.62     16852\n",
      "           1       0.66      0.38      0.48     16658\n",
      "           2       0.00      0.00      0.00      2188\n",
      "           3       0.00      0.00      0.00       724\n",
      "           4       0.00      0.00      0.00       388\n",
      "           5       0.00      0.00      0.00       227\n",
      "           6       0.00      0.00      0.00       157\n",
      "           7       0.00      0.00      0.00       113\n",
      "           8       0.00      0.00      0.00        72\n",
      "           9       0.00      0.00      0.00        45\n",
      "          10       0.00      0.00      0.00        37\n",
      "          11       0.00      0.00      0.00        46\n",
      "          12       0.00      0.00      0.00        29\n",
      "          13       0.00      0.00      0.00        22\n",
      "          14       0.00      0.00      0.00        17\n",
      "          15       0.00      0.00      0.00        13\n",
      "          16       0.00      0.00      0.00        14\n",
      "          17       0.00      0.00      0.00        16\n",
      "          18       0.00      0.00      0.00        14\n",
      "          19       0.00      0.00      0.00        14\n",
      "          20       0.00      0.00      0.00        11\n",
      "          21       0.00      0.00      0.00         9\n",
      "          22       0.00      0.00      0.00        11\n",
      "          23       0.00      0.00      0.00         6\n",
      "          24       0.00      0.00      0.00         7\n",
      "          25       0.00      0.00      0.00         8\n",
      "          26       0.00      0.00      0.00         6\n",
      "          27       0.00      0.00      0.00        10\n",
      "          28       0.00      0.00      0.00         5\n",
      "          29       0.00      0.00      0.00         6\n",
      "          30       0.00      0.00      0.00         6\n",
      "          31       0.00      0.00      0.00        13\n",
      "          32       0.00      0.00      0.00         5\n",
      "          33       0.00      0.00      0.00         6\n",
      "          34       0.00      0.00      0.00         7\n",
      "          35       0.00      0.00      0.00         4\n",
      "          36       0.00      0.00      0.00         1\n",
      "          37       0.00      0.00      0.00         4\n",
      "          38       0.00      0.00      0.00         2\n",
      "          39       0.00      0.00      0.00         2\n",
      "          40       0.00      0.00      0.00         3\n",
      "          41       0.00      0.00      0.00         1\n",
      "          42       0.00      0.00      0.00         1\n",
      "          43       0.00      0.00      0.00         0\n",
      "          44       0.00      0.00      0.00         1\n",
      "          45       0.00      0.00      0.00         0\n",
      "          46       0.00      0.00      0.00         0\n",
      "          47       0.00      0.00      0.00         0\n",
      "          48       0.00      0.00      0.00         0\n",
      "          49       0.00      0.00      0.00         1\n",
      "          50       0.00      0.00      0.00         0\n",
      "          51       0.00      0.00      0.00         4\n",
      "          52       0.00      0.00      0.00         1\n",
      "          53       0.00      0.00      0.00         0\n",
      "          54       0.00      0.00      0.00         1\n",
      "          55       0.00      0.00      0.00         0\n",
      "          56       0.00      0.00      0.00         0\n",
      "          57       0.00      0.00      0.00         0\n",
      "          58       0.00      0.00      0.00         0\n",
      "          59       0.00      0.00      0.00         0\n",
      "          60       0.00      0.00      0.00         0\n",
      "          61       0.00      0.00      0.00         1\n",
      "          62       0.00      0.00      0.00         0\n",
      "\n",
      "   micro avg       0.54      0.54      0.54     37789\n",
      "   macro avg       0.02      0.02      0.02     37789\n",
      "weighted avg       0.51      0.54      0.49     37789\n",
      " samples avg       0.54      0.54      0.54     37789\n",
      "\n",
      "[  1   5   3   4   7   2   9   8   6  12  11  10   0  13  16  14  18  20\n",
      "  27  17  19  33  22  29  25  21  24  23  15  48  45  34  47  38  30  42\n",
      "  36  28  31  26  37  39  49  56  32  40  46  43  64  63  60  62  55  50\n",
      "  41  35  51  44  54  59 127  68  52]\n"
     ]
    }
   ],
   "source": [
    "from sklearn.metrics import classification_report\n",
    "\n",
    "targetnames = df_BYDATE['clicks'].unique()\n",
    "print(classification_report(Y_test, categorical))\n",
    "print(targetnames)"
   ]
  }
 ],
 "metadata": {
  "accelerator": "GPU",
  "colab": {
   "machine_shape": "hm",
   "name": "Paperspace_clicks.ipynb",
   "provenance": []
  },
  "kernelspec": {
   "display_name": "Python [conda env:insightfall2019_sklearn]",
   "language": "python",
   "name": "conda-env-insightfall2019_sklearn-py"
  },
  "language_info": {
   "codemirror_mode": {
    "name": "ipython",
    "version": 3
   },
   "file_extension": ".py",
   "mimetype": "text/x-python",
   "name": "python",
   "nbconvert_exporter": "python",
   "pygments_lexer": "ipython3",
   "version": "3.7.4"
  }
 },
 "nbformat": 4,
 "nbformat_minor": 4
}
